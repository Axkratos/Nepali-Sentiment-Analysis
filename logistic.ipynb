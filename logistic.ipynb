{
 "cells": [
  {
   "cell_type": "code",
   "execution_count": 76,
   "id": "3a330e50-ef4a-4e2d-a62d-cbecd273fa85",
   "metadata": {},
   "outputs": [],
   "source": [
    "import pandas as pd\n",
    "import re\n",
    "import pickle\n",
    "from sklearn.feature_extraction.text import TfidfVectorizer\n",
    "from sklearn.pipeline import make_pipeline\n",
    "from sklearn.model_selection import train_test_split, GridSearchCV\n",
    "from sklearn.preprocessing import LabelEncoder\n",
    "from sklearn.metrics import accuracy_score\n",
    "from sklearn.ensemble import RandomForestClassifier\n",
    "import matplotlib.pyplot as plt"
   ]
  },
  {
   "cell_type": "code",
   "execution_count": 55,
   "id": "10b3cf4d-2148-40b5-8293-f5e467316c6a",
   "metadata": {},
   "outputs": [],
   "source": [
    "# Load and prepare data\n",
    "df = pd.read_csv('./data.csv').drop(columns=['Unnamed: 0'])"
   ]
  },
  {
   "cell_type": "code",
   "execution_count": 56,
   "id": "2651d29b-30a3-49aa-94d9-7cf76965a7f5",
   "metadata": {},
   "outputs": [
    {
     "data": {
      "text/html": [
       "<div>\n",
       "<style scoped>\n",
       "    .dataframe tbody tr th:only-of-type {\n",
       "        vertical-align: middle;\n",
       "    }\n",
       "\n",
       "    .dataframe tbody tr th {\n",
       "        vertical-align: top;\n",
       "    }\n",
       "\n",
       "    .dataframe thead th {\n",
       "        text-align: right;\n",
       "    }\n",
       "</style>\n",
       "<table border=\"1\" class=\"dataframe\">\n",
       "  <thead>\n",
       "    <tr style=\"text-align: right;\">\n",
       "      <th></th>\n",
       "      <th>Sentences</th>\n",
       "      <th>Sentiment</th>\n",
       "    </tr>\n",
       "  </thead>\n",
       "  <tbody>\n",
       "    <tr>\n",
       "      <th>0</th>\n",
       "      <td>म एक शिक्षक , शिक्षा क्षेत्रमा रमाएको मान्छे ।...</td>\n",
       "      <td>1</td>\n",
       "    </tr>\n",
       "    <tr>\n",
       "      <th>1</th>\n",
       "      <td>म सरकारी स्कूल/कलेजमा पढेर करीब १२ बर्ष भन्दा ...</td>\n",
       "      <td>1</td>\n",
       "    </tr>\n",
       "    <tr>\n",
       "      <th>2</th>\n",
       "      <td>कति राम्रो शिव मन्दिर देख्न पाइयो कुन ठाउको हो...</td>\n",
       "      <td>1</td>\n",
       "    </tr>\n",
       "    <tr>\n",
       "      <th>3</th>\n",
       "      <td>मारुनी भन्ने वितिकै सामान्य नाचनीमा आधारित कथा...</td>\n",
       "      <td>1</td>\n",
       "    </tr>\n",
       "    <tr>\n",
       "      <th>4</th>\n",
       "      <td>यो फ्लिम हेरिसकेपछी थाहा भयो कि किन दर्सकहरुले...</td>\n",
       "      <td>1</td>\n",
       "    </tr>\n",
       "  </tbody>\n",
       "</table>\n",
       "</div>"
      ],
      "text/plain": [
       "                                           Sentences  Sentiment\n",
       "0  म एक शिक्षक , शिक्षा क्षेत्रमा रमाएको मान्छे ।...          1\n",
       "1  म सरकारी स्कूल/कलेजमा पढेर करीब १२ बर्ष भन्दा ...          1\n",
       "2  कति राम्रो शिव मन्दिर देख्न पाइयो कुन ठाउको हो...          1\n",
       "3  मारुनी भन्ने वितिकै सामान्य नाचनीमा आधारित कथा...          1\n",
       "4  यो फ्लिम हेरिसकेपछी थाहा भयो कि किन दर्सकहरुले...          1"
      ]
     },
     "execution_count": 56,
     "metadata": {},
     "output_type": "execute_result"
    }
   ],
   "source": [
    "df.head()"
   ]
  },
  {
   "cell_type": "code",
   "execution_count": 86,
   "id": "93477245-3f3a-4dcc-bd43-1f4f19bc4ad1",
   "metadata": {},
   "outputs": [
    {
     "name": "stdout",
     "output_type": "stream",
     "text": [
      "<class 'pandas.core.frame.DataFrame'>\n",
      "RangeIndex: 35789 entries, 0 to 35788\n",
      "Data columns (total 3 columns):\n",
      " #   Column     Non-Null Count  Dtype \n",
      "---  ------     --------------  ----- \n",
      " 0   Sentences  35789 non-null  object\n",
      " 1   Sentiment  35789 non-null  int64 \n",
      " 2   cleaned    35789 non-null  object\n",
      "dtypes: int64(1), object(2)\n",
      "memory usage: 838.9+ KB\n"
     ]
    }
   ],
   "source": [
    "df.info()"
   ]
  },
  {
   "cell_type": "code",
   "execution_count": 78,
   "id": "8c411818-43d8-4639-a2c1-aa6f1fc18cdf",
   "metadata": {},
   "outputs": [
    {
     "data": {
      "image/png": "[encoded data removed]",
      "text/plain": [
       "<Figure size 640x480 with 1 Axes>"
      ]
     },
     "metadata": {},
     "output_type": "display_data"
    }
   ],
   "source": [
    "\n",
    "sentiment_data = df['Sentiment']\n",
    "\n",
    "# Create a histogram\n",
    "plt.hist(\n",
    "    sentiment_data,\n",
    "    bins=range(sentiment_data.min(), sentiment_data.max() + 2),  # Adjust bins for all categories (-1, 0, 1)\n",
    "    align='left',\n",
    "    rwidth=0.8,\n",
    "    color='skyblue'\n",
    ")\n",
    "\n",
    "\n",
    "plt.title('Histogram of Sentiment Categories')\n",
    "plt.xlabel('Sentiment Categories')\n",
    "plt.ylabel('Frequency')\n",
    "\n",
    "\n",
    "plt.xticks(range(sentiment_data.min(), sentiment_data.max() + 1))\n",
    "\n",
    "\n",
    "plt.show()"
   ]
  },
  {
   "cell_type": "code",
   "execution_count": 84,
   "id": "8878eec7-54df-429e-827a-f6a3c56936ea",
   "metadata": {},
   "outputs": [
    {
     "name": "stdout",
     "output_type": "stream",
     "text": [
      "Negative (-1) entries: 14408\n",
      "Neutral (0) entries: 5501\n",
      "Positive (1) entries: 15880\n",
      "\n",
      "Total data points: 35789\n"
     ]
    }
   ],
   "source": [
    "\n",
    "sentiment_counts = df['Sentiment'].value_counts()\n",
    "\n",
    "\n",
    "negative_count = sentiment_counts.get(-1)\n",
    "neutral_count = sentiment_counts.get(0) \n",
    "positive_count = sentiment_counts.get(1)\n",
    "\n",
    "# Print results\n",
    "print(f\"Negative (-1) entries: {negative_count}\")\n",
    "print(f\"Neutral (0) entries: {neutral_count}\")\n",
    "print(f\"Positive (1) entries: {positive_count}\")\n",
    "print(f\"\\nTotal data points: {len(df)}\")"
   ]
  },
  {
   "cell_type": "code",
   "execution_count": 58,
   "id": "873d2820-617c-491e-86bd-6799800880b3",
   "metadata": {},
   "outputs": [],
   "source": [
    "def clean_nepali(text):\n",
    "    text = re.sub(r'[०-९!@#$%^&*()_+{}\\[\\]:;\",./<>?\\|]', '', str(text))\n",
    "    return re.sub(r'\\s+', ' ', text).strip()"
   ]
  },
  {
   "cell_type": "code",
   "execution_count": 61,
   "id": "4fbb3146-8e26-463e-9c9e-7598d3501888",
   "metadata": {},
   "outputs": [],
   "source": [
    "df['cleaned'] = df['Sentences'].apply(clean_nepali)"
   ]
  },
  {
   "cell_type": "code",
   "execution_count": 62,
   "id": "fe49f91d-04b0-4758-8c31-3b99b27a4316",
   "metadata": {},
   "outputs": [],
   "source": [
    "\n",
    "X = df['cleaned']\n",
    "y = LabelEncoder().fit_transform(df['Sentiment'])"
   ]
  },
  {
   "cell_type": "code",
   "execution_count": 65,
   "id": "92441ae9-7e89-4d7f-bd4e-7859342bb924",
   "metadata": {},
   "outputs": [],
   "source": [
    "\n",
    "X_train, X_test, y_train, y_test = train_test_split(\n",
    "    X, y, test_size=0.2, random_state=42\n",
    ")"
   ]
  },
  {
   "cell_type": "code",
   "execution_count": 70,
   "id": "48660d0c-11d1-4d93-bcd7-3281b481fb09",
   "metadata": {},
   "outputs": [
    {
     "name": "stdout",
     "output_type": "stream",
     "text": [
      "Random Forest Accuracy: 66.95%\n"
     ]
    }
   ],
   "source": [
    "\n",
    "model_rf = make_pipeline(\n",
    "    TfidfVectorizer(max_features=10000),\n",
    "    RandomForestClassifier(n_estimators=100, random_state=42)\n",
    ")\n",
    "\n",
    "# Train model\n",
    "model_rf.fit(X_train, y_train)\n",
    "\n",
    "# Evaluate\n",
    "preds_rf = model_rf.predict(X_test)\n",
    "print(f\"Random Forest Accuracy: {accuracy_score(y_test, preds_rf)*100:.2f}%\")"
   ]
  },
  {
   "cell_type": "code",
   "execution_count": 94,
   "id": "94408bee-d9bc-48d8-8cbe-2e5ad6467abb",
   "metadata": {},
   "outputs": [],
   "source": [
    "# Export the fine-tuned model\n",
    "with open('random_forest_model.pkl', 'wb') as f:\n",
    "    pickle.dump(model_rf, f)"
   ]
  },
  {
   "cell_type": "code",
   "execution_count": 90,
   "id": "a0e1545d-f8e2-4838-a706-8aa153d3e715",
   "metadata": {},
   "outputs": [
    {
     "name": "stdout",
     "output_type": "stream",
     "text": [
      "\n",
      "Test Predictions:\n",
      "Text: यो फिल्म एकदमै राम्रो छ! अभिनय र कथानक दुबै उत्कृष्ट छन्।\n",
      "Predicted Sentiment: 1\n",
      "------------------------------------------------------------\n",
      "Text: मैले यति नराम्रो सेवा कहिल्यै भेट्टाएको छैन। निराशाजनक अनुभव भयो।\n",
      "Predicted Sentiment: -1\n",
      "------------------------------------------------------------\n",
      "Text: ठिकै उत्पादन हो\n",
      "Predicted Sentiment: 0\n",
      "------------------------------------------------------------\n",
      "Text: नेपाली टिमले खेलको अन्तिम समयमा गोल गरेर इतिहास रच्यो! जय नेपाल!\n",
      "Predicted Sentiment: 1\n",
      "------------------------------------------------------------\n"
     ]
    }
   ],
   "source": [
    "\n",
    "test_samples = [\n",
    "    \"यो फिल्म एकदमै राम्रो छ! अभिनय र कथानक दुबै उत्कृष्ट छन्।\",            # Positive\n",
    "    \"मैले यति नराम्रो सेवा कहिल्यै भेट्टाएको छैन। निराशाजनक अनुभव भयो।\",       # Negative\n",
    "    \"ठिकै उत्पादन हो\",                                                # Neutral/Mixed\n",
    "    \"नेपाली टिमले खेलको अन्तिम समयमा गोल गरेर इतिहास रच्यो! जय नेपाल!\"     # Positive\n",
    "]\n",
    "\n",
    "cleaned_test = [clean_nepali(text) for text in test_samples]\n",
    "\n",
    "\n",
    "test_preds = model_rf.predict(cleaned_test)\n",
    "\n",
    "\n",
    "le = LabelEncoder()\n",
    "le.fit(df['Sentiment'])  \n",
    "predicted_sentiments = le.inverse_transform(test_preds)\n",
    "\n",
    "print(\"\\nTest Predictions:\")\n",
    "for text, sentiment in zip(test_samples, predicted_sentiments):\n",
    "    print(f\"Text: {text}\")\n",
    "    print(f\"Predicted Sentiment: {sentiment}\")\n",
    "    print(\"-\" * 60)"
   ]
  },
  {
   "cell_type": "code",
   "execution_count": null,
   "id": "cdc74f78-fb59-439b-991f-c9313b8c0bb5",
   "metadata": {},
   "outputs": [],
   "source": [
    "# Fine-tuning function for Random Forest\n",
    "def fine_tune_random_forest(X_train, y_train):\n",
    "    # Create the pipeline\n",
    "    pipeline = make_pipeline(\n",
    "        TfidfVectorizer(max_features=10000),\n",
    "        RandomForestClassifier(random_state=42)\n",
    "    )\n",
    "    \n",
    "    # Define the parameter grid for tuning\n",
    "    param_grid = {\n",
    "        'randomforestclassifier__n_estimators': [100, 200, 300],\n",
    "        'randomforestclassifier__max_depth': [None, 10, 20, 30],\n",
    "        'randomforestclassifier__min_samples_split': [2, 5, 10],\n",
    "        'randomforestclassifier__min_samples_leaf': [1, 2, 4],\n",
    "        'randomforestclassifier__max_features': ['auto', 'sqrt', 'log2']\n",
    "    }\n",
    "\n",
    "    # Set up GridSearchCV with cross-validation\n",
    "    grid_search = GridSearchCV(pipeline, param_grid, cv=5, n_jobs=-1, verbose=2, scoring='accuracy')\n",
    "    \n",
    "    # Train and fine-tune the model\n",
    "    grid_search.fit(X_train, y_train)\n",
    "    \n",
    "    print(f\"Best Parameters: {grid_search.best_params_}\")\n",
    "    print(f\"Best Cross-Validation Accuracy: {grid_search.best_score_:.2f}\")\n",
    "    \n",
    "    return grid_search.best_estimator_\n",
    "\n",
    "# Fine-tune the model and train it\n",
    "best_rf_model = fine_tune_random_forest(X_train, y_train)\n",
    "\n",
    "# Evaluate the model\n",
    "preds_rf = best_rf_model.predict(X_test)\n",
    "print(f\"Random Forest Test Accuracy: {accuracy_score(y_test, preds_rf)*100:.2f}%\")\n"
   ]
  },
  {
   "cell_type": "code",
   "execution_count": 53,
   "id": "c4f7025d-5995-4bfe-a48c-08401d932c16",
   "metadata": {},
   "outputs": [],
   "source": [
    "# Export the fine-tuned model\n",
    "with open('fine_tuned_random_forest_model.pkl', 'wb') as f:\n",
    "    pickle.dump(best_rf_model, f)"
   ]
  },
  {
   "cell_type": "code",
   "execution_count": null,
   "id": "59370bfd-7218-497b-9187-e5df1e8dca94",
   "metadata": {},
   "outputs": [],
   "source": []
  },
  {
   "cell_type": "code",
   "execution_count": null,
   "id": "9ed1a1ff-0170-47d8-b0e1-e7219df1374c",
   "metadata": {},
   "outputs": [],
   "source": []
  }
 ],
 "metadata": {
  "kernelspec": {
   "display_name": "Python [conda env:base] *",
   "language": "python",
   "name": "conda-base-py"
  },
  "language_info": {
   "codemirror_mode": {
    "name": "ipython",
    "version": 3
   },
   "file_extension": ".py",
   "mimetype": "text/x-python",
   "name": "python",
   "nbconvert_exporter": "python",
   "pygments_lexer": "ipython3",
   "version": "3.12.7"
  }
 },
 "nbformat": 4,
 "nbformat_minor": 5
}
